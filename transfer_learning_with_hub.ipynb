{
  "nbformat": 4,
  "nbformat_minor": 0,
  "metadata": {
    "accelerator": "GPU",
    "colab": {
      "name": "transfer_learning_with_hub.ipynb",
      "provenance": [],
      "collapsed_sections": [
        "W_tvPdyfA-BL"
      ]
    },
    "kernelspec": {
      "display_name": "Python 3",
      "name": "python3"
    }
  },
  "cells": [
    {
      "cell_type": "code",
      "metadata": {
        "id": "OGNpmn43C0O6"
      },
      "source": [
        "import numpy as np\n",
        "import tensorflow as tf\n",
        "import tensorflow_hub as hub"
      ],
      "execution_count": 1,
      "outputs": []
    },
    {
      "cell_type": "code",
      "metadata": {
        "id": "BYM5_xPnHtIG"
      },
      "source": [
        "# Mount Drive\r\n",
        "from google.colab import drive\r\n",
        "drive.mount('/content/drive')\r\n",
        "\r\n",
        "# Training Images from Fatkun\r\n",
        "!unzip /content/drive/MyDrive/TransferLearnImages.zip\r\n",
        "data_root = \"/content/TransferLearnImages/\""
      ],
      "execution_count": null,
      "outputs": []
    },
    {
      "cell_type": "code",
      "metadata": {
        "id": "mqnsczfLgcwv",
        "colab": {
          "base_uri": "https://localhost:8080/"
        },
        "outputId": "80e2b0af-a1f6-48d0-df68-953b238984ab"
      },
      "source": [
        "batch_size = 32\n",
        "IMG_SIZE = (224, 224)\n",
        "\n",
        "train_ds = tf.keras.preprocessing.image_dataset_from_directory(\n",
        "  str(data_root),\n",
        "  seed=123,\n",
        "  image_size=IMG_SIZE,\n",
        "  batch_size=batch_size)\n",
        "\n",
        "class_names = np.array(train_ds.class_names)"
      ],
      "execution_count": 3,
      "outputs": [
        {
          "output_type": "stream",
          "text": [
            "Found 188 files belonging to 2 classes.\n"
          ],
          "name": "stdout"
        }
      ]
    },
    {
      "cell_type": "code",
      "metadata": {
        "id": "8NzDDWEMCL20"
      },
      "source": [
        "normalization_layer = tf.keras.layers.experimental.preprocessing.Rescaling(1./255)\n",
        "train_ds = train_ds.map(lambda x, y: (normalization_layer(x), y))\n",
        "\n",
        "AUTOTUNE = tf.data.experimental.AUTOTUNE\n",
        "train_ds = train_ds.cache().prefetch(buffer_size=AUTOTUNE)"
      ],
      "execution_count": 4,
      "outputs": []
    },
    {
      "cell_type": "code",
      "metadata": {
        "id": "vQq_kCWzlqSu"
      },
      "source": [
        "IMG_SHAPE = IMG_SIZE + (3,)\n",
        "\n",
        "feature_extractor_model = \"https://tfhub.dev/google/tf2-preview/mobilenet_v2/feature_vector/4\"\n",
        "\n",
        "feature_extractor_layer = hub.KerasLayer(\n",
        "    feature_extractor_model, input_shape=IMG_SHAPE, trainable=False)\n",
        "\n",
        "num_classes = len(class_names)\n",
        "\n",
        "model = tf.keras.Sequential([\n",
        "  feature_extractor_layer,\n",
        "  tf.keras.layers.Dense(num_classes)\n",
        "])\n",
        "\n",
        "model.compile(\n",
        "  optimizer=tf.keras.optimizers.Adam(),\n",
        "  loss=tf.keras.losses.SparseCategoricalCrossentropy(from_logits=True),\n",
        "  metrics=['acc'])"
      ],
      "execution_count": 5,
      "outputs": []
    },
    {
      "cell_type": "code",
      "metadata": {
        "id": "JI0yAKd-nARd",
        "colab": {
          "base_uri": "https://localhost:8080/"
        },
        "outputId": "97d68dee-4b4f-4f34-97dc-6ab7c33321db"
      },
      "source": [
        "history = model.fit(train_ds, epochs=5)"
      ],
      "execution_count": 6,
      "outputs": [
        {
          "output_type": "stream",
          "text": [
            "Epoch 1/5\n",
            "6/6 [==============================] - 0s 61ms/step - loss: 0.5015 - acc: 0.8085\n",
            "Epoch 2/5\n",
            "6/6 [==============================] - 0s 28ms/step - loss: 0.1180 - acc: 0.9840\n",
            "Epoch 3/5\n",
            "6/6 [==============================] - 0s 29ms/step - loss: 0.0415 - acc: 0.9894\n",
            "Epoch 4/5\n",
            "6/6 [==============================] - 0s 29ms/step - loss: 0.0203 - acc: 1.0000\n",
            "Epoch 5/5\n",
            "6/6 [==============================] - 0s 29ms/step - loss: 0.0122 - acc: 1.0000\n"
          ],
          "name": "stdout"
        }
      ]
    },
    {
      "cell_type": "code",
      "metadata": {
        "colab": {
          "base_uri": "https://localhost:8080/",
          "height": 286
        },
        "id": "ebp2W0XpJZdV",
        "outputId": "af0535a1-eabd-4d15-c7f6-79bbd41b710c"
      },
      "source": [
        "# test model with new image\r\n",
        "!wget -O image.jpg https://image.shutterstock.com/image-photo/soccer-ball-isolated-on-white-260nw-400438939.jpg\r\n",
        "#!wget -O image.jpg https://www.tennisnuts.com/images/product/full/102334-136_babolat-pure-drive_angle.jpg\r\n",
        "\r\n",
        "# process image for model\r\n",
        "img = tf.keras.preprocessing.image.load_img('image.jpg', target_size=IMG_SIZE)\r\n",
        "x = tf.keras.preprocessing.image.img_to_array(img)\r\n",
        "x = np.expand_dims(x, axis=0)\r\n",
        "\r\n",
        "# display image\r\n",
        "import matplotlib.pyplot as plt\r\n",
        "plt.imshow(img)\r\n",
        "\r\n",
        "# run prediction\r\n",
        "prediction = model.predict(x)\r\n",
        "predicted_id = np.argmax(prediction, axis=-1)\r\n",
        "predicted_label_batch = class_names[predicted_id]\r\n",
        "print(predicted_label_batch)"
      ],
      "execution_count": 7,
      "outputs": [
        {
          "output_type": "stream",
          "text": [
            "['Football']\n"
          ],
          "name": "stdout"
        },
        {
          "output_type": "display_data",
          "data": {
            "image/png": "[encoded data removed]",
            "text/plain": [
              "<Figure size 432x288 with 1 Axes>"
            ]
          },
          "metadata": {
            "tags": [],
            "needs_background": "light"
          }
        }
      ]
    }
  ]
}